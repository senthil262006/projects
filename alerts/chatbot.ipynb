{
 "cells": [
  {
   "cell_type": "code",
   "execution_count": 10,
   "id": "c0d555d2-52f9-4edf-91eb-07944b725a10",
   "metadata": {},
   "outputs": [],
   "source": [
    "import pandas as pd\n",
    "\n",
    "# Load the CSV file\n",
    "df = pd.read_csv('kedb.csv')"
   ]
  },
  {
   "cell_type": "code",
   "execution_count": 11,
   "id": "9fdf200e-a1f4-4441-aecb-5540a08f06b7",
   "metadata": {},
   "outputs": [
    {
     "data": {
      "text/html": [
       "<div>\n",
       "<style scoped>\n",
       "    .dataframe tbody tr th:only-of-type {\n",
       "        vertical-align: middle;\n",
       "    }\n",
       "\n",
       "    .dataframe tbody tr th {\n",
       "        vertical-align: top;\n",
       "    }\n",
       "\n",
       "    .dataframe thead th {\n",
       "        text-align: right;\n",
       "    }\n",
       "</style>\n",
       "<table border=\"1\" class=\"dataframe\">\n",
       "  <thead>\n",
       "    <tr style=\"text-align: right;\">\n",
       "      <th></th>\n",
       "      <th>Message</th>\n",
       "      <th>Status Code</th>\n",
       "      <th>Cluster</th>\n",
       "      <th>Processed_Message</th>\n",
       "    </tr>\n",
       "  </thead>\n",
       "  <tbody>\n",
       "    <tr>\n",
       "      <th>0</th>\n",
       "      <td>Group Intertec Network is in a Warning state d...</td>\n",
       "      <td>warning</td>\n",
       "      <td>2</td>\n",
       "      <td>Group Intertec Network Warning state due membe...</td>\n",
       "    </tr>\n",
       "    <tr>\n",
       "      <th>1</th>\n",
       "      <td>Component \"WMI Remote Ping\" for application \"R...</td>\n",
       "      <td>warning</td>\n",
       "      <td>2</td>\n",
       "      <td>Component WMI Remote Ping application Remote P...</td>\n",
       "    </tr>\n",
       "    <tr>\n",
       "      <th>2</th>\n",
       "      <td>Application \"Remote Ping to http://100.92.20.1...</td>\n",
       "      <td>warning</td>\n",
       "      <td>2</td>\n",
       "      <td>Application Remote Ping http TATA node ISNOCPR...</td>\n",
       "    </tr>\n",
       "    <tr>\n",
       "      <th>3</th>\n",
       "      <td>10.10.200.201 troubleshooting steps, see Resol...</td>\n",
       "      <td>warning</td>\n",
       "      <td>2</td>\n",
       "      <td>troubleshooting steps see Resolve malformed fl...</td>\n",
       "    </tr>\n",
       "    <tr>\n",
       "      <th>4</th>\n",
       "      <td>Group DEEM AIX Server is in a Warning state du...</td>\n",
       "      <td>warning</td>\n",
       "      <td>2</td>\n",
       "      <td>Group DEEM AIX Server Warning state due member...</td>\n",
       "    </tr>\n",
       "  </tbody>\n",
       "</table>\n",
       "</div>"
      ],
      "text/plain": [
       "                                             Message Status Code  Cluster  \\\n",
       "0  Group Intertec Network is in a Warning state d...     warning        2   \n",
       "1  Component \"WMI Remote Ping\" for application \"R...     warning        2   \n",
       "2  Application \"Remote Ping to http://100.92.20.1...     warning        2   \n",
       "3  10.10.200.201 troubleshooting steps, see Resol...     warning        2   \n",
       "4  Group DEEM AIX Server is in a Warning state du...     warning        2   \n",
       "\n",
       "                                   Processed_Message  \n",
       "0  Group Intertec Network Warning state due membe...  \n",
       "1  Component WMI Remote Ping application Remote P...  \n",
       "2  Application Remote Ping http TATA node ISNOCPR...  \n",
       "3  troubleshooting steps see Resolve malformed fl...  \n",
       "4  Group DEEM AIX Server Warning state due member...  "
      ]
     },
     "execution_count": 11,
     "metadata": {},
     "output_type": "execute_result"
    }
   ],
   "source": [
    "df.head()"
   ]
  },
  {
   "cell_type": "code",
   "execution_count": 12,
   "id": "69a49035-e448-4fab-aa50-a3ddf183ed67",
   "metadata": {},
   "outputs": [],
   "source": [
    "def search_csv(query, df):\n",
    "    # Convert the query to lowercase for case-insensitive search\n",
    "    query = query.lower()\n",
    "    \n",
    "    # Search the Processed_Message column for the query\n",
    "    results = df[df['Processed_Message'].str.lower().str.contains(query)]\n",
    "    \n",
    "    if not results.empty:\n",
    "        return results['Processed_Message'].tolist()\n",
    "    else:\n",
    "        return None"
   ]
  },
  {
   "cell_type": "code",
   "execution_count": 16,
   "id": "26a4e583-f468-4def-840b-3692049c6633",
   "metadata": {},
   "outputs": [],
   "source": [
    "import openai\n",
    "\n",
    "# Set your OpenAI API key\n",
    "openai.api_key = ''  # Replace with your actual OpenAI API key\n",
    "\n",
    "def get_openai_answer(query):\n",
    "    # Use OpenAI's GPT to generate a response\n",
    "    response = openai.Completion.create(\n",
    "        engine=\"text-davinci-003\",  # You can use \"gpt-4\" if you have access to it\n",
    "        prompt=query,\n",
    "        max_tokens=150,  # Adjust based on the desired response length\n",
    "        temperature=0.7  # Adjust for creativity vs. determinism\n",
    "    )\n",
    "    return response.choices[0].text.strip()"
   ]
  },
  {
   "cell_type": "code",
   "execution_count": 17,
   "id": "af2991bc-3a7d-4bec-a4cb-9fabdf2b2c16",
   "metadata": {},
   "outputs": [],
   "source": [
    "def chatbot(query):\n",
    "    # Search the CSV first\n",
    "    csv_results = search_csv(query, df)\n",
    "    \n",
    "    if csv_results:\n",
    "        return \"From CSV: \" + \", \".join(csv_results)\n",
    "    else:\n",
    "        # If not found in CSV, use OpenAI GPT\n",
    "        openai_answer = get_openai_answer(query)\n",
    "        return \"From OpenAI GPT: \" + openai_answer"
   ]
  },
  {
   "cell_type": "code",
   "execution_count": 18,
   "id": "1c414c1e-ea4d-4b55-8c6b-dd1dea6388a4",
   "metadata": {},
   "outputs": [
    {
     "name": "stdout",
     "output_type": "stream",
     "text": [
      "User Query: What will do on Warning state which device? due to member status on Intertec Perimter FW01?\n"
     ]
    },
    {
     "ename": "APIRemovedInV1",
     "evalue": "\n\nYou tried to access openai.Completion, but this is no longer supported in openai>=1.0.0 - see the README at https://github.com/openai/openai-python for the API.\n\nYou can run `openai migrate` to automatically upgrade your codebase to use the 1.0.0 interface. \n\nAlternatively, you can pin your installation to the old version, e.g. `pip install openai==0.28`\n\nA detailed migration guide is available here: https://github.com/openai/openai-python/discussions/742\n",
     "output_type": "error",
     "traceback": [
      "\u001b[1;31m---------------------------------------------------------------------------\u001b[0m",
      "\u001b[1;31mAPIRemovedInV1\u001b[0m                            Traceback (most recent call last)",
      "Cell \u001b[1;32mIn[18], line 10\u001b[0m\n\u001b[0;32m      8\u001b[0m \u001b[38;5;28;01mfor\u001b[39;00m query \u001b[38;5;129;01min\u001b[39;00m queries:\n\u001b[0;32m      9\u001b[0m     \u001b[38;5;28mprint\u001b[39m(\u001b[38;5;124mf\u001b[39m\u001b[38;5;124m\"\u001b[39m\u001b[38;5;124mUser Query: \u001b[39m\u001b[38;5;132;01m{\u001b[39;00mquery\u001b[38;5;132;01m}\u001b[39;00m\u001b[38;5;124m\"\u001b[39m)\n\u001b[1;32m---> 10\u001b[0m     response \u001b[38;5;241m=\u001b[39m chatbot(query)\n\u001b[0;32m     11\u001b[0m     \u001b[38;5;28mprint\u001b[39m(\u001b[38;5;124mf\u001b[39m\u001b[38;5;124m\"\u001b[39m\u001b[38;5;124mChatbot Response: \u001b[39m\u001b[38;5;132;01m{\u001b[39;00mresponse\u001b[38;5;132;01m}\u001b[39;00m\u001b[38;5;130;01m\\n\u001b[39;00m\u001b[38;5;124m\"\u001b[39m)\n",
      "Cell \u001b[1;32mIn[17], line 9\u001b[0m, in \u001b[0;36mchatbot\u001b[1;34m(query)\u001b[0m\n\u001b[0;32m      6\u001b[0m     \u001b[38;5;28;01mreturn\u001b[39;00m \u001b[38;5;124m\"\u001b[39m\u001b[38;5;124mFrom CSV: \u001b[39m\u001b[38;5;124m\"\u001b[39m \u001b[38;5;241m+\u001b[39m \u001b[38;5;124m\"\u001b[39m\u001b[38;5;124m, \u001b[39m\u001b[38;5;124m\"\u001b[39m\u001b[38;5;241m.\u001b[39mjoin(csv_results)\n\u001b[0;32m      7\u001b[0m \u001b[38;5;28;01melse\u001b[39;00m:\n\u001b[0;32m      8\u001b[0m     \u001b[38;5;66;03m# If not found in CSV, use OpenAI GPT\u001b[39;00m\n\u001b[1;32m----> 9\u001b[0m     openai_answer \u001b[38;5;241m=\u001b[39m get_openai_answer(query)\n\u001b[0;32m     10\u001b[0m     \u001b[38;5;28;01mreturn\u001b[39;00m \u001b[38;5;124m\"\u001b[39m\u001b[38;5;124mFrom OpenAI GPT: \u001b[39m\u001b[38;5;124m\"\u001b[39m \u001b[38;5;241m+\u001b[39m openai_answer\n",
      "Cell \u001b[1;32mIn[16], line 8\u001b[0m, in \u001b[0;36mget_openai_answer\u001b[1;34m(query)\u001b[0m\n\u001b[0;32m      6\u001b[0m \u001b[38;5;28;01mdef\u001b[39;00m \u001b[38;5;21mget_openai_answer\u001b[39m(query):\n\u001b[0;32m      7\u001b[0m     \u001b[38;5;66;03m# Use OpenAI's GPT to generate a response\u001b[39;00m\n\u001b[1;32m----> 8\u001b[0m     response \u001b[38;5;241m=\u001b[39m openai\u001b[38;5;241m.\u001b[39mCompletion\u001b[38;5;241m.\u001b[39mcreate(\n\u001b[0;32m      9\u001b[0m         engine\u001b[38;5;241m=\u001b[39m\u001b[38;5;124m\"\u001b[39m\u001b[38;5;124mtext-davinci-003\u001b[39m\u001b[38;5;124m\"\u001b[39m,  \u001b[38;5;66;03m# You can use \"gpt-4\" if you have access to it\u001b[39;00m\n\u001b[0;32m     10\u001b[0m         prompt\u001b[38;5;241m=\u001b[39mquery,\n\u001b[0;32m     11\u001b[0m         max_tokens\u001b[38;5;241m=\u001b[39m\u001b[38;5;241m150\u001b[39m,  \u001b[38;5;66;03m# Adjust based on the desired response length\u001b[39;00m\n\u001b[0;32m     12\u001b[0m         temperature\u001b[38;5;241m=\u001b[39m\u001b[38;5;241m0.7\u001b[39m  \u001b[38;5;66;03m# Adjust for creativity vs. determinism\u001b[39;00m\n\u001b[0;32m     13\u001b[0m     )\n\u001b[0;32m     14\u001b[0m     \u001b[38;5;28;01mreturn\u001b[39;00m response\u001b[38;5;241m.\u001b[39mchoices[\u001b[38;5;241m0\u001b[39m]\u001b[38;5;241m.\u001b[39mtext\u001b[38;5;241m.\u001b[39mstrip()\n",
      "File \u001b[1;32m~\\AppData\\Roaming\\Python\\Python312\\site-packages\\openai\\lib\\_old_api.py:39\u001b[0m, in \u001b[0;36mAPIRemovedInV1Proxy.__call__\u001b[1;34m(self, *_args, **_kwargs)\u001b[0m\n\u001b[0;32m     38\u001b[0m \u001b[38;5;28;01mdef\u001b[39;00m \u001b[38;5;21m__call__\u001b[39m(\u001b[38;5;28mself\u001b[39m, \u001b[38;5;241m*\u001b[39m_args: Any, \u001b[38;5;241m*\u001b[39m\u001b[38;5;241m*\u001b[39m_kwargs: Any) \u001b[38;5;241m-\u001b[39m\u001b[38;5;241m>\u001b[39m Any:\n\u001b[1;32m---> 39\u001b[0m     \u001b[38;5;28;01mraise\u001b[39;00m APIRemovedInV1(symbol\u001b[38;5;241m=\u001b[39m\u001b[38;5;28mself\u001b[39m\u001b[38;5;241m.\u001b[39m_symbol)\n",
      "\u001b[1;31mAPIRemovedInV1\u001b[0m: \n\nYou tried to access openai.Completion, but this is no longer supported in openai>=1.0.0 - see the README at https://github.com/openai/openai-python for the API.\n\nYou can run `openai migrate` to automatically upgrade your codebase to use the 1.0.0 interface. \n\nAlternatively, you can pin your installation to the old version, e.g. `pip install openai==0.28`\n\nA detailed migration guide is available here: https://github.com/openai/openai-python/discussions/742\n"
     ]
    }
   ],
   "source": [
    "# Example queries\n",
    "queries = [\n",
    "    \"What will do on Warning state which device? due to member status on Intertec Perimter FW01?\",\n",
    "    \"What is the status of status on Intertec Perimter FW0?\",\n",
    "    \"I am not checking\"\n",
    "]\n",
    "\n",
    "for query in queries:\n",
    "    print(f\"User Query: {query}\")\n",
    "    response = chatbot(query)\n",
    "    print(f\"Chatbot Response: {response}\\n\")"
   ]
  },
  {
   "cell_type": "code",
   "execution_count": null,
   "id": "fa6c9c50-e0ec-46bd-bbce-0dc4d1290357",
   "metadata": {},
   "outputs": [],
   "source": []
  }
 ],
 "metadata": {
  "kernelspec": {
   "display_name": "Python 3 (ipykernel)",
   "language": "python",
   "name": "python3"
  },
  "language_info": {
   "codemirror_mode": {
    "name": "ipython",
    "version": 3
   },
   "file_extension": ".py",
   "mimetype": "text/x-python",
   "name": "python",
   "nbconvert_exporter": "python",
   "pygments_lexer": "ipython3",
   "version": "3.12.7"
  }
 },
 "nbformat": 4,
 "nbformat_minor": 5
}
