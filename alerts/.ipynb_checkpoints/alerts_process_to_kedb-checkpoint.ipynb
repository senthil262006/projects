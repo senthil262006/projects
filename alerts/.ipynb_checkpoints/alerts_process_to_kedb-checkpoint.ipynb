{
 "cells": [
  {
   "cell_type": "code",
   "execution_count": 45,
   "id": "a89659cd-b1a6-4465-93f8-2a3ffcd2ec41",
   "metadata": {},
   "outputs": [],
   "source": [
    "import pandas as pd\n",
    "import re\n",
    "from sklearn.cluster import KMeans\n",
    "from datetime import datetime"
   ]
  },
  {
   "cell_type": "code",
   "execution_count": 46,
   "id": "9092f77b-68b0-431f-84ea-a43868d9b384",
   "metadata": {},
   "outputs": [
    {
     "data": {
      "text/html": [
       "<div>\n",
       "<style scoped>\n",
       "    .dataframe tbody tr th:only-of-type {\n",
       "        vertical-align: middle;\n",
       "    }\n",
       "\n",
       "    .dataframe tbody tr th {\n",
       "        vertical-align: top;\n",
       "    }\n",
       "\n",
       "    .dataframe thead th {\n",
       "        text-align: right;\n",
       "    }\n",
       "</style>\n",
       "<table border=\"1\" class=\"dataframe\">\n",
       "  <thead>\n",
       "    <tr style=\"text-align: right;\">\n",
       "      <th></th>\n",
       "      <th>EventDate</th>\n",
       "      <th>EventID</th>\n",
       "      <th>NetworkNode</th>\n",
       "      <th>NetObjectID</th>\n",
       "      <th>NetObjectID2</th>\n",
       "      <th>NetObjectValue</th>\n",
       "      <th>EventType</th>\n",
       "      <th>EventTypeName</th>\n",
       "      <th>Message</th>\n",
       "      <th>Acknowledged</th>\n",
       "      <th>EngineID</th>\n",
       "      <th>NetObjectType</th>\n",
       "      <th>TimeStamp</th>\n",
       "    </tr>\n",
       "  </thead>\n",
       "  <tbody>\n",
       "    <tr>\n",
       "      <th>0</th>\n",
       "      <td>2025-02-05</td>\n",
       "      <td>133300204</td>\n",
       "      <td>3054.0</td>\n",
       "      <td>214095.0</td>\n",
       "      <td>NaN</td>\n",
       "      <td>NaN</td>\n",
       "      <td>506</td>\n",
       "      <td>SAM Monitor Up</td>\n",
       "      <td>Component \"Active Directory Domain Services\" f...</td>\n",
       "      <td>0</td>\n",
       "      <td>NaN</td>\n",
       "      <td>AM</td>\n",
       "      <td>0x000000010E1B31DA</td>\n",
       "    </tr>\n",
       "    <tr>\n",
       "      <th>1</th>\n",
       "      <td>2025-02-05</td>\n",
       "      <td>133300205</td>\n",
       "      <td>3054.0</td>\n",
       "      <td>3163.0</td>\n",
       "      <td>NaN</td>\n",
       "      <td>NaN</td>\n",
       "      <td>504</td>\n",
       "      <td>SAM Application Up</td>\n",
       "      <td>Application \"NOC Infra - Active Directory Doma...</td>\n",
       "      <td>0</td>\n",
       "      <td>NaN</td>\n",
       "      <td>AA</td>\n",
       "      <td>0x000000010E1B31DB</td>\n",
       "    </tr>\n",
       "    <tr>\n",
       "      <th>2</th>\n",
       "      <td>2025-02-05</td>\n",
       "      <td>133300201</td>\n",
       "      <td>4105.0</td>\n",
       "      <td>213591.0</td>\n",
       "      <td>NaN</td>\n",
       "      <td>213591.0</td>\n",
       "      <td>5000</td>\n",
       "      <td>Alert Triggered</td>\n",
       "      <td>Component  DNS Server on Application NOC Infra...</td>\n",
       "      <td>0</td>\n",
       "      <td>3.0</td>\n",
       "      <td>AM</td>\n",
       "      <td>0x000000010E1B31D7</td>\n",
       "    </tr>\n",
       "    <tr>\n",
       "      <th>3</th>\n",
       "      <td>2025-02-05</td>\n",
       "      <td>133300200</td>\n",
       "      <td>4094.0</td>\n",
       "      <td>20877.0</td>\n",
       "      <td>NaN</td>\n",
       "      <td>NaN</td>\n",
       "      <td>11</td>\n",
       "      <td>Interface Up</td>\n",
       "      <td>DHA-HO-MDF-FSN-SW-01.dha.ae - TwentyFiveGigE1/...</td>\n",
       "      <td>0</td>\n",
       "      <td>6.0</td>\n",
       "      <td>I</td>\n",
       "      <td>0x000000010E1B31D6</td>\n",
       "    </tr>\n",
       "    <tr>\n",
       "      <th>4</th>\n",
       "      <td>2025-02-05</td>\n",
       "      <td>133300199</td>\n",
       "      <td>4094.0</td>\n",
       "      <td>20934.0</td>\n",
       "      <td>NaN</td>\n",
       "      <td>NaN</td>\n",
       "      <td>11</td>\n",
       "      <td>Interface Up</td>\n",
       "      <td>DHA-HO-MDF-FSN-SW-01.dha.ae - Port-channel15 ·...</td>\n",
       "      <td>0</td>\n",
       "      <td>6.0</td>\n",
       "      <td>I</td>\n",
       "      <td>0x000000010E1B31D5</td>\n",
       "    </tr>\n",
       "  </tbody>\n",
       "</table>\n",
       "</div>"
      ],
      "text/plain": [
       "   EventDate    EventID  NetworkNode  NetObjectID  NetObjectID2  \\\n",
       "0 2025-02-05  133300204       3054.0     214095.0           NaN   \n",
       "1 2025-02-05  133300205       3054.0       3163.0           NaN   \n",
       "2 2025-02-05  133300201       4105.0     213591.0           NaN   \n",
       "3 2025-02-05  133300200       4094.0      20877.0           NaN   \n",
       "4 2025-02-05  133300199       4094.0      20934.0           NaN   \n",
       "\n",
       "   NetObjectValue  EventType       EventTypeName  \\\n",
       "0             NaN        506      SAM Monitor Up   \n",
       "1             NaN        504  SAM Application Up   \n",
       "2        213591.0       5000     Alert Triggered   \n",
       "3             NaN         11        Interface Up   \n",
       "4             NaN         11        Interface Up   \n",
       "\n",
       "                                             Message  Acknowledged  EngineID  \\\n",
       "0  Component \"Active Directory Domain Services\" f...             0       NaN   \n",
       "1  Application \"NOC Infra - Active Directory Doma...             0       NaN   \n",
       "2  Component  DNS Server on Application NOC Infra...             0       3.0   \n",
       "3  DHA-HO-MDF-FSN-SW-01.dha.ae - TwentyFiveGigE1/...             0       6.0   \n",
       "4  DHA-HO-MDF-FSN-SW-01.dha.ae - Port-channel15 ·...             0       6.0   \n",
       "\n",
       "  NetObjectType           TimeStamp  \n",
       "0    AM          0x000000010E1B31DA  \n",
       "1    AA          0x000000010E1B31DB  \n",
       "2            AM  0x000000010E1B31D7  \n",
       "3             I  0x000000010E1B31D6  \n",
       "4             I  0x000000010E1B31D5  "
      ]
     },
     "execution_count": 46,
     "metadata": {},
     "output_type": "execute_result"
    }
   ],
   "source": [
    "df = pd.read_excel(\"Solarwinds Events Data FEB01 to FEB05.xlsx\")\n",
    "df.head()"
   ]
  },
  {
   "cell_type": "code",
   "execution_count": 47,
   "id": "74011578-194a-4852-9b72-9cff049bea96",
   "metadata": {},
   "outputs": [],
   "source": [
    "# Extract the last word of 'EventTypeName' as 'Status'\n",
    "df[\"Status\"] = df[\"EventTypeName\"].apply(lambda x: x.split()[-1].lower())"
   ]
  },
  {
   "cell_type": "code",
   "execution_count": 48,
   "id": "85b34ffc-45e0-4072-8428-3ce740e9a881",
   "metadata": {},
   "outputs": [],
   "source": [
    "def classify_status(event_name, status):\n",
    "    if \"sam critical\" in event_name.lower():\n",
    "        return \"critical\"\n",
    "    if status in [\"failed\", \"triggered\"]:\n",
    "        return \"critical\"\n",
    "    elif status == \"up\":\n",
    "        return \"message\"\n",
    "    elif status == \"down\":\n",
    "        return \"down\"\n",
    "    elif status == \"warning\":\n",
    "        return \"warning\"\n",
    "    else:\n",
    "        return \"critical\"  # Any other unrecognized event is also \"critical\"\n",
    "\n",
    "\n",
    "df[\"Status\"] = df.apply(lambda row: classify_status(row[\"EventTypeName\"], row[\"Status\"]), axis=1)"
   ]
  },
  {
   "cell_type": "code",
   "execution_count": 49,
   "id": "e63cb738-b5b5-468a-89ff-cd166c32cc13",
   "metadata": {},
   "outputs": [],
   "source": [
    "# Generate timestamp column\n",
    "df[\"Timestamp\"] = datetime.now().strftime(\"%Y-%m-%d %H:%M:%S\")"
   ]
  },
  {
   "cell_type": "code",
   "execution_count": 50,
   "id": "6a3c5ba9-f5ed-47c2-a14b-7151308697e3",
   "metadata": {},
   "outputs": [],
   "source": [
    "# Convert categorical 'Status' to numerical labels for clustering\n",
    "df[\"Status_Code\"] = df[\"Status\"].astype(\"category\").cat.codes"
   ]
  },
  {
   "cell_type": "code",
   "execution_count": 51,
   "id": "1abfc58c-1c2c-4335-802e-f1f9cb7dcfe7",
   "metadata": {},
   "outputs": [],
   "source": [
    "# Apply KMeans clustering\n",
    "kmeans = KMeans(n_clusters=4, random_state=42, n_init=10)\n",
    "df[\"Cluster no\"] = kmeans.fit_predict(df[[\"Status_Code\"]])"
   ]
  },
  {
   "cell_type": "code",
   "execution_count": 52,
   "id": "8dd3ff78-e4aa-45c8-8bb4-da59f21e63ac",
   "metadata": {},
   "outputs": [
    {
     "name": "stdout",
     "output_type": "stream",
     "text": [
      "CSV file 'clustered_events.csv' generated successfully!\n"
     ]
    }
   ],
   "source": [
    "# Save to CSV\n",
    "output_file = \"clustered_events.csv\"\n",
    "df[[\"EventTypeName\", \"Cluster no\", \"Message\", \"Timestamp\", \"Status\"]].to_csv(output_file, index=False)\n",
    "\n",
    "print(f\"CSV file '{output_file}' generated successfully!\")"
   ]
  },
  {
   "cell_type": "code",
   "execution_count": 53,
   "id": "52852ad9-b67e-44b6-ad23-fd5ee6c55771",
   "metadata": {},
   "outputs": [
    {
     "name": "stdout",
     "output_type": "stream",
     "text": [
      "<class 'pandas.core.frame.DataFrame'>\n",
      "RangeIndex: 149632 entries, 0 to 149631\n",
      "Data columns (total 17 columns):\n",
      " #   Column          Non-Null Count   Dtype         \n",
      "---  ------          --------------   -----         \n",
      " 0   EventDate       149632 non-null  datetime64[ns]\n",
      " 1   EventID         149632 non-null  int64         \n",
      " 2   NetworkNode     148949 non-null  float64       \n",
      " 3   NetObjectID     149172 non-null  float64       \n",
      " 4   NetObjectID2    0 non-null       float64       \n",
      " 5   NetObjectValue  123720 non-null  float64       \n",
      " 6   EventType       149632 non-null  int64         \n",
      " 7   EventTypeName   149632 non-null  object        \n",
      " 8   Message         149632 non-null  object        \n",
      " 9   Acknowledged    149632 non-null  int64         \n",
      " 10  EngineID        134942 non-null  float64       \n",
      " 11  NetObjectType   144195 non-null  object        \n",
      " 12  TimeStamp       149632 non-null  object        \n",
      " 13  Status          149632 non-null  object        \n",
      " 14  Timestamp       149632 non-null  object        \n",
      " 15  Status_Code     149632 non-null  int8          \n",
      " 16  Cluster no      149632 non-null  int32         \n",
      "dtypes: datetime64[ns](1), float64(5), int32(1), int64(3), int8(1), object(6)\n",
      "memory usage: 17.8+ MB\n"
     ]
    }
   ],
   "source": [
    "df.info()"
   ]
  },
  {
   "cell_type": "code",
   "execution_count": 54,
   "id": "a1203aca-4455-4872-8e53-b637bb01b569",
   "metadata": {},
   "outputs": [],
   "source": [
    "cleaned_data=df[[\"EventTypeName\", \"Cluster no\", \"Message\", \"Timestamp\", \"Status\"]]"
   ]
  },
  {
   "cell_type": "code",
   "execution_count": 55,
   "id": "57fc60b0-ddfd-48a4-ba98-018b562d2a81",
   "metadata": {},
   "outputs": [
    {
     "data": {
      "text/html": [
       "<div>\n",
       "<style scoped>\n",
       "    .dataframe tbody tr th:only-of-type {\n",
       "        vertical-align: middle;\n",
       "    }\n",
       "\n",
       "    .dataframe tbody tr th {\n",
       "        vertical-align: top;\n",
       "    }\n",
       "\n",
       "    .dataframe thead th {\n",
       "        text-align: right;\n",
       "    }\n",
       "</style>\n",
       "<table border=\"1\" class=\"dataframe\">\n",
       "  <thead>\n",
       "    <tr style=\"text-align: right;\">\n",
       "      <th></th>\n",
       "      <th>EventTypeName</th>\n",
       "      <th>Cluster no</th>\n",
       "      <th>Message</th>\n",
       "      <th>Timestamp</th>\n",
       "      <th>Status</th>\n",
       "    </tr>\n",
       "  </thead>\n",
       "  <tbody>\n",
       "    <tr>\n",
       "      <th>0</th>\n",
       "      <td>SAM Monitor Up</td>\n",
       "      <td>1</td>\n",
       "      <td>Component \"Active Directory Domain Services\" f...</td>\n",
       "      <td>2025-02-18 00:15:31</td>\n",
       "      <td>message</td>\n",
       "    </tr>\n",
       "    <tr>\n",
       "      <th>1</th>\n",
       "      <td>SAM Application Up</td>\n",
       "      <td>1</td>\n",
       "      <td>Application \"NOC Infra - Active Directory Doma...</td>\n",
       "      <td>2025-02-18 00:15:31</td>\n",
       "      <td>message</td>\n",
       "    </tr>\n",
       "    <tr>\n",
       "      <th>2</th>\n",
       "      <td>Alert Triggered</td>\n",
       "      <td>0</td>\n",
       "      <td>Component  DNS Server on Application NOC Infra...</td>\n",
       "      <td>2025-02-18 00:15:31</td>\n",
       "      <td>critical</td>\n",
       "    </tr>\n",
       "    <tr>\n",
       "      <th>3</th>\n",
       "      <td>Interface Up</td>\n",
       "      <td>1</td>\n",
       "      <td>DHA-HO-MDF-FSN-SW-01.dha.ae - TwentyFiveGigE1/...</td>\n",
       "      <td>2025-02-18 00:15:31</td>\n",
       "      <td>message</td>\n",
       "    </tr>\n",
       "    <tr>\n",
       "      <th>4</th>\n",
       "      <td>Interface Up</td>\n",
       "      <td>1</td>\n",
       "      <td>DHA-HO-MDF-FSN-SW-01.dha.ae - Port-channel15 ·...</td>\n",
       "      <td>2025-02-18 00:15:31</td>\n",
       "      <td>message</td>\n",
       "    </tr>\n",
       "  </tbody>\n",
       "</table>\n",
       "</div>"
      ],
      "text/plain": [
       "        EventTypeName  Cluster no  \\\n",
       "0      SAM Monitor Up           1   \n",
       "1  SAM Application Up           1   \n",
       "2     Alert Triggered           0   \n",
       "3        Interface Up           1   \n",
       "4        Interface Up           1   \n",
       "\n",
       "                                             Message            Timestamp  \\\n",
       "0  Component \"Active Directory Domain Services\" f...  2025-02-18 00:15:31   \n",
       "1  Application \"NOC Infra - Active Directory Doma...  2025-02-18 00:15:31   \n",
       "2  Component  DNS Server on Application NOC Infra...  2025-02-18 00:15:31   \n",
       "3  DHA-HO-MDF-FSN-SW-01.dha.ae - TwentyFiveGigE1/...  2025-02-18 00:15:31   \n",
       "4  DHA-HO-MDF-FSN-SW-01.dha.ae - Port-channel15 ·...  2025-02-18 00:15:31   \n",
       "\n",
       "     Status  \n",
       "0   message  \n",
       "1   message  \n",
       "2  critical  \n",
       "3   message  \n",
       "4   message  "
      ]
     },
     "execution_count": 55,
     "metadata": {},
     "output_type": "execute_result"
    }
   ],
   "source": [
    "\n",
    "cleaned_data.head()"
   ]
  },
  {
   "cell_type": "code",
   "execution_count": 56,
   "id": "e32e243a-2caf-4033-8013-7ce5f97251db",
   "metadata": {
    "scrolled": true
   },
   "outputs": [
    {
     "data": {
      "text/plain": [
       "array([1, 0, 2, 3])"
      ]
     },
     "execution_count": 56,
     "metadata": {},
     "output_type": "execute_result"
    }
   ],
   "source": [
    "# Get distinct values in the \"Cluster no\" column\n",
    "cleaned_data['Cluster no'].unique()"
   ]
  },
  {
   "cell_type": "code",
   "execution_count": 57,
   "id": "abf715c3-4f3d-4a3a-afdd-5f4e3befd0e3",
   "metadata": {},
   "outputs": [
    {
     "data": {
      "text/plain": [
       "Cluster no  Status  \n",
       "0           critical    130678\n",
       "1           message       9651\n",
       "2           warning       4472\n",
       "3           down          4831\n",
       "Name: count, dtype: int64"
      ]
     },
     "execution_count": 57,
     "metadata": {},
     "output_type": "execute_result"
    }
   ],
   "source": [
    "cluster_summary = cleaned_data.groupby('Cluster no')['Status']\n",
    "cluster_summary.value_counts()"
   ]
  },
  {
   "cell_type": "code",
   "execution_count": 58,
   "id": "a78e66a6-eb4e-421a-ae28-10a3e0589e76",
   "metadata": {},
   "outputs": [],
   "source": [
    "# Create separate DataFrames for each status code\n",
    "cleaned_data_warning = cleaned_data[cleaned_data['Status'] == 'warning']\n",
    "cleaned_data_down = cleaned_data[cleaned_data['Status'] == 'down']\n",
    "cleaned_data_critical = cleaned_data[cleaned_data['Status'] == 'critical']"
   ]
  },
  {
   "cell_type": "code",
   "execution_count": 59,
   "id": "81601762-0ac7-4745-8688-86293c023850",
   "metadata": {},
   "outputs": [
    {
     "data": {
      "text/html": [
       "<div>\n",
       "<style scoped>\n",
       "    .dataframe tbody tr th:only-of-type {\n",
       "        vertical-align: middle;\n",
       "    }\n",
       "\n",
       "    .dataframe tbody tr th {\n",
       "        vertical-align: top;\n",
       "    }\n",
       "\n",
       "    .dataframe thead th {\n",
       "        text-align: right;\n",
       "    }\n",
       "</style>\n",
       "<table border=\"1\" class=\"dataframe\">\n",
       "  <thead>\n",
       "    <tr style=\"text-align: right;\">\n",
       "      <th></th>\n",
       "      <th>EventTypeName</th>\n",
       "      <th>Cluster no</th>\n",
       "      <th>Message</th>\n",
       "      <th>Timestamp</th>\n",
       "      <th>Status</th>\n",
       "    </tr>\n",
       "  </thead>\n",
       "  <tbody>\n",
       "    <tr>\n",
       "      <th>10</th>\n",
       "      <td>SAM Warning</td>\n",
       "      <td>2</td>\n",
       "      <td>Component \"Worker Process Statistic Monitor (C...</td>\n",
       "      <td>2025-02-18 00:15:31</td>\n",
       "      <td>warning</td>\n",
       "    </tr>\n",
       "    <tr>\n",
       "      <th>11</th>\n",
       "      <td>SAM Warning</td>\n",
       "      <td>2</td>\n",
       "      <td>Component \"Worker Process Statistic Monitor (S...</td>\n",
       "      <td>2025-02-18 00:15:31</td>\n",
       "      <td>warning</td>\n",
       "    </tr>\n",
       "    <tr>\n",
       "      <th>104</th>\n",
       "      <td>SAM Warning</td>\n",
       "      <td>2</td>\n",
       "      <td>Component \"Worker Process Statistic Monitor (I...</td>\n",
       "      <td>2025-02-18 00:15:31</td>\n",
       "      <td>warning</td>\n",
       "    </tr>\n",
       "    <tr>\n",
       "      <th>111</th>\n",
       "      <td>SAM Warning</td>\n",
       "      <td>2</td>\n",
       "      <td>Component \"Active Directory Domain Services\" f...</td>\n",
       "      <td>2025-02-18 00:15:31</td>\n",
       "      <td>warning</td>\n",
       "    </tr>\n",
       "    <tr>\n",
       "      <th>112</th>\n",
       "      <td>SAM Warning</td>\n",
       "      <td>2</td>\n",
       "      <td>Application \"NOC Infra - Active Directory Doma...</td>\n",
       "      <td>2025-02-18 00:15:31</td>\n",
       "      <td>warning</td>\n",
       "    </tr>\n",
       "  </tbody>\n",
       "</table>\n",
       "</div>"
      ],
      "text/plain": [
       "    EventTypeName  Cluster no  \\\n",
       "10    SAM Warning           2   \n",
       "11    SAM Warning           2   \n",
       "104   SAM Warning           2   \n",
       "111   SAM Warning           2   \n",
       "112   SAM Warning           2   \n",
       "\n",
       "                                               Message            Timestamp  \\\n",
       "10   Component \"Worker Process Statistic Monitor (C...  2025-02-18 00:15:31   \n",
       "11   Component \"Worker Process Statistic Monitor (S...  2025-02-18 00:15:31   \n",
       "104  Component \"Worker Process Statistic Monitor (I...  2025-02-18 00:15:31   \n",
       "111  Component \"Active Directory Domain Services\" f...  2025-02-18 00:15:31   \n",
       "112  Application \"NOC Infra - Active Directory Doma...  2025-02-18 00:15:31   \n",
       "\n",
       "      Status  \n",
       "10   warning  \n",
       "11   warning  \n",
       "104  warning  \n",
       "111  warning  \n",
       "112  warning  "
      ]
     },
     "execution_count": 59,
     "metadata": {},
     "output_type": "execute_result"
    }
   ],
   "source": [
    "cleaned_data_warning.head()"
   ]
  },
  {
   "cell_type": "code",
   "execution_count": 60,
   "id": "3b266a05-d09b-407a-a48d-bf06d66e357a",
   "metadata": {},
   "outputs": [
    {
     "data": {
      "text/html": [
       "<div>\n",
       "<style scoped>\n",
       "    .dataframe tbody tr th:only-of-type {\n",
       "        vertical-align: middle;\n",
       "    }\n",
       "\n",
       "    .dataframe tbody tr th {\n",
       "        vertical-align: top;\n",
       "    }\n",
       "\n",
       "    .dataframe thead th {\n",
       "        text-align: right;\n",
       "    }\n",
       "</style>\n",
       "<table border=\"1\" class=\"dataframe\">\n",
       "  <thead>\n",
       "    <tr style=\"text-align: right;\">\n",
       "      <th></th>\n",
       "      <th>EventTypeName</th>\n",
       "      <th>Cluster no</th>\n",
       "      <th>Message</th>\n",
       "      <th>Timestamp</th>\n",
       "      <th>Status</th>\n",
       "    </tr>\n",
       "  </thead>\n",
       "  <tbody>\n",
       "    <tr>\n",
       "      <th>14</th>\n",
       "      <td>SAM Monitor Down</td>\n",
       "      <td>3</td>\n",
       "      <td>Component \"Error and Warning Events: SMS Serve...</td>\n",
       "      <td>2025-02-18 00:15:31</td>\n",
       "      <td>down</td>\n",
       "    </tr>\n",
       "    <tr>\n",
       "      <th>15</th>\n",
       "      <td>SAM Application Down</td>\n",
       "      <td>3</td>\n",
       "      <td>Application \"Microsoft System Center Configura...</td>\n",
       "      <td>2025-02-18 00:15:31</td>\n",
       "      <td>down</td>\n",
       "    </tr>\n",
       "    <tr>\n",
       "      <th>109</th>\n",
       "      <td>Interface Down</td>\n",
       "      <td>3</td>\n",
       "      <td>DHA-HO-MDF-FSN-SW-01.dha.ae - TwentyFiveGigE2/...</td>\n",
       "      <td>2025-02-18 00:15:31</td>\n",
       "      <td>down</td>\n",
       "    </tr>\n",
       "    <tr>\n",
       "      <th>114</th>\n",
       "      <td>Interface Down</td>\n",
       "      <td>3</td>\n",
       "      <td>TCS-GM-SW6 - port9(primary) · port9 Down</td>\n",
       "      <td>2025-02-18 00:15:31</td>\n",
       "      <td>down</td>\n",
       "    </tr>\n",
       "    <tr>\n",
       "      <th>202</th>\n",
       "      <td>Node Down</td>\n",
       "      <td>3</td>\n",
       "      <td>Greens-60F has stopped responding (Request Tim...</td>\n",
       "      <td>2025-02-18 00:15:31</td>\n",
       "      <td>down</td>\n",
       "    </tr>\n",
       "  </tbody>\n",
       "</table>\n",
       "</div>"
      ],
      "text/plain": [
       "            EventTypeName  Cluster no  \\\n",
       "14       SAM Monitor Down           3   \n",
       "15   SAM Application Down           3   \n",
       "109        Interface Down           3   \n",
       "114        Interface Down           3   \n",
       "202             Node Down           3   \n",
       "\n",
       "                                               Message            Timestamp  \\\n",
       "14   Component \"Error and Warning Events: SMS Serve...  2025-02-18 00:15:31   \n",
       "15   Application \"Microsoft System Center Configura...  2025-02-18 00:15:31   \n",
       "109  DHA-HO-MDF-FSN-SW-01.dha.ae - TwentyFiveGigE2/...  2025-02-18 00:15:31   \n",
       "114           TCS-GM-SW6 - port9(primary) · port9 Down  2025-02-18 00:15:31   \n",
       "202  Greens-60F has stopped responding (Request Tim...  2025-02-18 00:15:31   \n",
       "\n",
       "    Status  \n",
       "14    down  \n",
       "15    down  \n",
       "109   down  \n",
       "114   down  \n",
       "202   down  "
      ]
     },
     "execution_count": 60,
     "metadata": {},
     "output_type": "execute_result"
    }
   ],
   "source": [
    "cleaned_data_down.head()"
   ]
  },
  {
   "cell_type": "code",
   "execution_count": 61,
   "id": "60abfcac-3305-43c7-a8ce-7087adc75cfe",
   "metadata": {},
   "outputs": [
    {
     "data": {
      "text/html": [
       "<div>\n",
       "<style scoped>\n",
       "    .dataframe tbody tr th:only-of-type {\n",
       "        vertical-align: middle;\n",
       "    }\n",
       "\n",
       "    .dataframe tbody tr th {\n",
       "        vertical-align: top;\n",
       "    }\n",
       "\n",
       "    .dataframe thead th {\n",
       "        text-align: right;\n",
       "    }\n",
       "</style>\n",
       "<table border=\"1\" class=\"dataframe\">\n",
       "  <thead>\n",
       "    <tr style=\"text-align: right;\">\n",
       "      <th></th>\n",
       "      <th>EventTypeName</th>\n",
       "      <th>Cluster no</th>\n",
       "      <th>Message</th>\n",
       "      <th>Timestamp</th>\n",
       "      <th>Status</th>\n",
       "    </tr>\n",
       "  </thead>\n",
       "  <tbody>\n",
       "    <tr>\n",
       "      <th>2</th>\n",
       "      <td>Alert Triggered</td>\n",
       "      <td>0</td>\n",
       "      <td>Component  DNS Server on Application NOC Infra...</td>\n",
       "      <td>2025-02-18 00:15:31</td>\n",
       "      <td>critical</td>\n",
       "    </tr>\n",
       "    <tr>\n",
       "      <th>6</th>\n",
       "      <td>Alert Triggered</td>\n",
       "      <td>0</td>\n",
       "      <td>Component  Error and Warning Events: SMS Serve...</td>\n",
       "      <td>2025-02-18 00:15:31</td>\n",
       "      <td>critical</td>\n",
       "    </tr>\n",
       "    <tr>\n",
       "      <th>12</th>\n",
       "      <td>SAM Critical</td>\n",
       "      <td>0</td>\n",
       "      <td>Component \"DNS Server\" for application \"NOC In...</td>\n",
       "      <td>2025-02-18 00:15:31</td>\n",
       "      <td>critical</td>\n",
       "    </tr>\n",
       "    <tr>\n",
       "      <th>13</th>\n",
       "      <td>SAM Critical</td>\n",
       "      <td>0</td>\n",
       "      <td>Application \"NOC Infra Critical Active Directo...</td>\n",
       "      <td>2025-02-18 00:15:31</td>\n",
       "      <td>critical</td>\n",
       "    </tr>\n",
       "    <tr>\n",
       "      <th>17</th>\n",
       "      <td>Alert Triggered</td>\n",
       "      <td>0</td>\n",
       "      <td>Component  Page Reads/sec on Application PRODS...</td>\n",
       "      <td>2025-02-18 00:15:31</td>\n",
       "      <td>critical</td>\n",
       "    </tr>\n",
       "  </tbody>\n",
       "</table>\n",
       "</div>"
      ],
      "text/plain": [
       "      EventTypeName  Cluster no  \\\n",
       "2   Alert Triggered           0   \n",
       "6   Alert Triggered           0   \n",
       "12     SAM Critical           0   \n",
       "13     SAM Critical           0   \n",
       "17  Alert Triggered           0   \n",
       "\n",
       "                                              Message            Timestamp  \\\n",
       "2   Component  DNS Server on Application NOC Infra...  2025-02-18 00:15:31   \n",
       "6   Component  Error and Warning Events: SMS Serve...  2025-02-18 00:15:31   \n",
       "12  Component \"DNS Server\" for application \"NOC In...  2025-02-18 00:15:31   \n",
       "13  Application \"NOC Infra Critical Active Directo...  2025-02-18 00:15:31   \n",
       "17  Component  Page Reads/sec on Application PRODS...  2025-02-18 00:15:31   \n",
       "\n",
       "      Status  \n",
       "2   critical  \n",
       "6   critical  \n",
       "12  critical  \n",
       "13  critical  \n",
       "17  critical  "
      ]
     },
     "execution_count": 61,
     "metadata": {},
     "output_type": "execute_result"
    }
   ],
   "source": [
    "cleaned_data_critical.head()"
   ]
  },
  {
   "cell_type": "code",
   "execution_count": 63,
   "id": "75b7c87b-02a1-4d69-9c3b-76bb84bc1f15",
   "metadata": {},
   "outputs": [],
   "source": [
    "\n",
    "cleaned_data_warning.to_csv('warning_status.csv', index=False)\n",
    "cleaned_data_down.to_csv('down_status.csv', index=False)\n",
    "cleaned_data_critical.to_csv('critical_status.csv', index=False)"
   ]
  },
  {
   "cell_type": "code",
   "execution_count": 62,
   "id": "168c0ca9-c12a-4c2d-8c1c-5dd68379175d",
   "metadata": {},
   "outputs": [
    {
     "name": "stderr",
     "output_type": "stream",
     "text": [
      "[nltk_data] Downloading package punkt to\n",
      "[nltk_data]     C:\\Users\\senth\\AppData\\Roaming\\nltk_data...\n",
      "[nltk_data]   Package punkt is already up-to-date!\n",
      "[nltk_data] Downloading package stopwords to\n",
      "[nltk_data]     C:\\Users\\senth\\AppData\\Roaming\\nltk_data...\n",
      "[nltk_data]   Unzipping corpora\\stopwords.zip.\n"
     ]
    },
    {
     "data": {
      "text/plain": [
       "True"
      ]
     },
     "execution_count": 62,
     "metadata": {},
     "output_type": "execute_result"
    }
   ],
   "source": [
    "# from anaconda prompt run below commands\n",
    "#pip install nltk\n",
    "#python -m nltk.downloader all\n",
    "\n",
    "import os\n",
    "import pandas as pd\n",
    "from nltk.tokenize import word_tokenize\n",
    "from nltk.corpus import stopwords\n",
    "\n",
    "# Ensure nltk data is downloaded\n",
    "import nltk\n",
    "nltk.download('punkt')\n",
    "nltk.download('stopwords')\n",
    "\n"
   ]
  },
  {
   "cell_type": "code",
   "execution_count": 68,
   "id": "088f9dbd-6d50-46d9-9124-72b84e13c004",
   "metadata": {},
   "outputs": [
    {
     "name": "stdout",
     "output_type": "stream",
     "text": [
      "Processed CSV saved to warning_status_processed.csv\n",
      "Processed CSV saved to down_status_processed.csv\n",
      "Processed CSV saved to critical_status_processed.csv\n"
     ]
    }
   ],
   "source": [
    "\n",
    "\n",
    "\n",
    "# Function to process text and create a meaningful sentence\n",
    "def process_text(text):\n",
    "    # Tokenize the text into words\n",
    "    words = word_tokenize(str(text))  # Ensure text is a string\n",
    "    \n",
    "    # Remove stopwords and punctuation\n",
    "    stop_words = set(stopwords.words('english'))\n",
    "    filtered_words = [word for word in words if word.isalnum() and word.lower() not in stop_words]\n",
    "    \n",
    "    # Reconstruct a meaningful sentence\n",
    "    meaningful_sentence = \" \".join(filtered_words)\n",
    "    return meaningful_sentence\n",
    "\n",
    "# List of input CSV files\n",
    "input_csv_files = ['warning_status.csv', 'down_status.csv', 'critical_status.csv']  # Replace with your actual file paths\n",
    "\n",
    "# List to store names of processed files\n",
    "process_file=[]\n",
    "\n",
    "for file_path in input_csv_files:\n",
    "    try:\n",
    "        # Read the CSV file\n",
    "        df_process = pd.read_csv(file_path)\n",
    "        \n",
    "        # Check if the 'Message' column exists\n",
    "        if 'Message' not in df_process.columns:\n",
    "            print(f\"Skipping {file_path}: 'Message' column not found.\")\n",
    "            continue\n",
    "        \n",
    "        # Apply the process_text function to the 'Message' column\n",
    "        df_process['Processed_Message'] = df_process['Message'].apply(process_text)\n",
    "        \n",
    "        # Get the file name and create output CSV path\n",
    "        file_name = os.path.splitext(os.path.basename(file_path))[0]\n",
    "        output_csv = f\"{file_name}_processed.csv\"\n",
    "        \n",
    "        process_file.append(output_csv)\n",
    "        # Save the results to a new CSV file\n",
    "        df_process.to_csv(output_csv, index=False)\n",
    "        print(f\"Processed CSV saved to {output_csv}\")\n",
    "    \n",
    "    except Exception as e:\n",
    "        print(f\"Error processing {file_path}: {e}\")\n",
    "\n"
   ]
  },
  {
   "cell_type": "code",
   "execution_count": 69,
   "id": "2d18dba9-06d6-4e24-acae-5fef1ee184e4",
   "metadata": {},
   "outputs": [
    {
     "data": {
      "text/plain": [
       "['warning_status_processed.csv',\n",
       " 'down_status_processed.csv',\n",
       " 'critical_status_processed.csv']"
      ]
     },
     "execution_count": 69,
     "metadata": {},
     "output_type": "execute_result"
    }
   ],
   "source": [
    "process_file"
   ]
  },
  {
   "cell_type": "code",
   "execution_count": 70,
   "id": "2a1b0fc2-b1c3-4fa6-886f-cdce99c839fa",
   "metadata": {},
   "outputs": [
    {
     "name": "stdout",
     "output_type": "stream",
     "text": [
      "Master CSV saved as kedb.csv\n"
     ]
    }
   ],
   "source": [
    "# Merge all processed CSV files into a single master CSV\n",
    "master_csv = \"kedb.csv\"\n",
    "merged_data = pd.DataFrame()\n",
    "\n",
    "for processed_file in process_file:\n",
    "    try:\n",
    "        # Read each processed CSV file\n",
    "        processed_data = pd.read_csv(processed_file)\n",
    "        merged_data = pd.concat([merged_data, processed_data], ignore_index=True)\n",
    "    except Exception as e:\n",
    "        print(f\"Error merging {processed_file}: {e}\")\n",
    "\n",
    "# Save the merged data to the master CSV\n",
    "merged_data.to_csv(master_csv, index=False)\n",
    "print(f\"Master CSV saved as {master_csv}\")\n"
   ]
  },
  {
   "cell_type": "code",
   "execution_count": null,
   "id": "41226ef9-accf-4662-a889-3c81b52fcf70",
   "metadata": {},
   "outputs": [],
   "source": []
  }
 ],
 "metadata": {
  "kernelspec": {
   "display_name": "Python 3 (ipykernel)",
   "language": "python",
   "name": "python3"
  },
  "language_info": {
   "codemirror_mode": {
    "name": "ipython",
    "version": 3
   },
   "file_extension": ".py",
   "mimetype": "text/x-python",
   "name": "python",
   "nbconvert_exporter": "python",
   "pygments_lexer": "ipython3",
   "version": "3.12.7"
  }
 },
 "nbformat": 4,
 "nbformat_minor": 5
}
